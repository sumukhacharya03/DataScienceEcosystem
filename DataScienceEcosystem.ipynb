{
 "cells": [
  {
   "cell_type": "markdown",
   "id": "d0e1f514-b702-4b03-a1e1-7af9f536d25c",
   "metadata": {},
   "source": [
    "# Data Science Tools and Ecosystem"
   ]
  },
  {
   "cell_type": "markdown",
   "id": "f41cdfe1-8248-41ad-909e-57a23aeca30c",
   "metadata": {},
   "source": [
    "In this notebook, Data Science Tools and Ecosystem are summarized."
   ]
  },
  {
   "cell_type": "markdown",
   "id": "759441d9-8046-4309-ac5c-13b3205fe22a",
   "metadata": {},
   "source": [
    "Some of the popular languages that Data Scientists use are:\n",
    "1. Python\n",
    "2. R\n",
    "3. Scala"
   ]
  },
  {
   "cell_type": "markdown",
   "id": "fc974489-b12c-4d98-bc05-bd93e3e77f0c",
   "metadata": {},
   "source": [
    "Some of the commonly used libraries used by Data Scientists include:\n",
    "1. numpy\n",
    "2. ggplot\n",
    "3. tensorflow\n",
    "4. pandas\n",
    "5. matplotlib"
   ]
  },
  {
   "cell_type": "markdown",
   "id": "96e4254e-e066-4e53-99f9-6604dc30b454",
   "metadata": {},
   "source": [
    "|Data Science Tools|\n",
    "|------------------|\n",
    "|    Anaconda      |\n",
    "|    Spyder        |\n",
    "|    VS Code       |"
   ]
  },
  {
   "cell_type": "markdown",
   "id": "90d8885d-06de-4487-a838-0332925bfd1e",
   "metadata": {},
   "source": [
    "### Below are a few examples of evaluating arithmetic expressions in Python"
   ]
  },
  {
   "cell_type": "code",
   "execution_count": 2,
   "id": "fcbe5853-48fc-45d9-9e84-b23f1a6d2ac6",
   "metadata": {},
   "outputs": [
    {
     "data": {
      "text/plain": [
       "17"
      ]
     },
     "execution_count": 2,
     "metadata": {},
     "output_type": "execute_result"
    }
   ],
   "source": [
    "# This a simple arithmetic expression to mutiply then add integers\n",
    "(3*4)+5"
   ]
  },
  {
   "cell_type": "code",
   "execution_count": 4,
   "id": "15642397-8829-4fb5-bbc8-d1528a0395ad",
   "metadata": {},
   "outputs": [
    {
     "name": "stdout",
     "output_type": "stream",
     "text": [
      "3.3333333333333335 hours\n"
     ]
    }
   ],
   "source": [
    "# This will convert 200 minutes to hours by diving by 60\n",
    "res=200/60\n",
    "print(res,\"hours\")"
   ]
  },
  {
   "cell_type": "markdown",
   "id": "4eec1d1f-1beb-4b99-85b4-bf893951a547",
   "metadata": {},
   "source": [
    "**Objectives:**\n",
    "- Python\n",
    "- Scala\n",
    "- R\n",
    "- C++\n",
    "- Java"
   ]
  },
  {
   "cell_type": "markdown",
   "id": "11412992-40b9-40e7-a313-6bc7530410fa",
   "metadata": {},
   "source": [
    "## Author\n",
    "Sumukh Acharya"
   ]
  }
 ],
 "metadata": {
  "kernelspec": {
   "display_name": "Python 3 (ipykernel)",
   "language": "python",
   "name": "python3"
  },
  "language_info": {
   "codemirror_mode": {
    "name": "ipython",
    "version": 3
   },
   "file_extension": ".py",
   "mimetype": "text/x-python",
   "name": "python",
   "nbconvert_exporter": "python",
   "pygments_lexer": "ipython3",
   "version": "3.12.7"
  }
 },
 "nbformat": 4,
 "nbformat_minor": 5
}
